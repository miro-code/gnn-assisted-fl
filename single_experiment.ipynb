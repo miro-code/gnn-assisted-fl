{
  "cells": [
    {
      "cell_type": "code",
      "execution_count": 1,
      "metadata": {
        "id": "99aC-H3gr5ey"
      },
      "outputs": [],
      "source": [
        "## Imports\n",
        "\n",
        "import csv\n",
        "import numbers\n",
        "import os\n",
        "import random\n",
        "from collections import OrderedDict, defaultdict\n",
        "from copy import deepcopy\n",
        "from pathlib import Path\n",
        "from typing import *\n",
        "\n",
        "import flwr as fl\n",
        "import gdown\n",
        "import matplotlib.pyplot as plt\n",
        "import numpy as np\n",
        "\n",
        "import seaborn as sns\n",
        "import pandas as pd\n",
        "import torch\n",
        "import torch.nn as nn\n",
        "import torch.nn.functional as F\n",
        "from flwr.common import Metrics\n",
        "from flwr.common.parameter import ndarrays_to_parameters\n",
        "from flwr.common.typing import NDArrays, Parameters, Scalar\n",
        "from flwr.server import ServerConfig\n",
        "from flwr.server.strategy import FedAvgM as FedAvg\n",
        "from PIL import Image\n",
        "from PIL.Image import Image as ImageType\n",
        "from torch.nn import Module\n",
        "from torch.utils.data import DataLoader, Dataset, Subset\n",
        "from torchvision import transforms\n",
        "from tqdm import tqdm\n",
        "from enum import IntEnum\n",
        "\n",
        "\n",
        "# Add new seeds here for easy autocomplete\n",
        "class Seeds(IntEnum):\n",
        "    DEFAULT = 1337\n",
        "\n",
        "np.random.seed(Seeds.DEFAULT)\n",
        "random.seed(Seeds.DEFAULT)\n",
        "torch.manual_seed(Seeds.DEFAULT)\n",
        "torch.backends.cudnn.benchmark = False # type: ignore\n",
        "torch.backends.cudnn.deterministic = True # type: ignore\n",
        "\n",
        "def start_seeded_simulation(\n",
        "    client_fn,\n",
        "    num_clients,\n",
        "    client_resources,\n",
        "    config,\n",
        "    strategy,\n",
        "    seed: int = Seeds.DEFAULT,\n",
        "):\n",
        "    \"\"\"Wrapper to always seed client selection.\"\"\"\n",
        "    np.random.seed(seed)\n",
        "    torch.manual_seed(seed)\n",
        "    random.seed(seed)\n",
        "    return fl.simulation.start_simulation(\n",
        "        client_fn=client_fn,\n",
        "        num_clients=num_clients,\n",
        "        client_resources=client_resources,\n",
        "        config=config,\n",
        "        strategy=strategy,\n",
        "    )\n",
        "\n",
        "def fit_client_seeded(client, params, conf, seed=Seeds.DEFAULT):\n",
        "    \"\"\"Wrapper to always seed client training.\"\"\"\n",
        "    np.random.seed(seed)\n",
        "    torch.manual_seed(seed)\n",
        "    random.seed(seed)\n",
        "    return client.fit(params, conf)\n",
        "\n",
        "PathType = Optional[Union[Path, str]]\n",
        "\n",
        "\n",
        "\n",
        "def get_device() -> str:\n",
        "    device = \"cpu\"\n",
        "    if torch.cuda.is_available():\n",
        "        device = \"cuda\"\n",
        "    elif torch.backends.mps.is_available() and torch.backends.mps.is_built():\n",
        "        device = \"mps\"\n",
        "    return device"
      ]
    },
    {
      "cell_type": "code",
      "execution_count": 2,
      "metadata": {
        "id": "2hQhnTM0JU9y"
      },
      "outputs": [],
      "source": [
        "home_dir = Path(os.getcwd())\n",
        "# home_dir = Path(\"/Users/lorenzosani/My drive (ls985@cam.ac.uk)/Teaching/FL_2022-2023/\")\n",
        "dataset_dir: Path = home_dir / \"femnist\"\n",
        "# dataset_dir = Path(\"/Users/lorenzosani/tmp/femnist/femnist\")\n",
        "data_dir: Path = dataset_dir / \"data\"\n",
        "centralized_partition: Path = dataset_dir / 'client_data_mappings' / 'centralized'\n",
        "centralized_mapping: Path = dataset_dir / 'client_data_mappings' / 'centralized' / '0'\n",
        "federated_partition: Path = dataset_dir / 'client_data_mappings' / 'fed_natural'"
      ]
    },
    {
      "cell_type": "code",
      "execution_count": 7,
      "metadata": {
        "id": "twoHcMsJ4n8T"
      },
      "outputs": [
        {
          "name": "stderr",
          "output_type": "stream",
          "text": [
            "Downloading...\n",
            "From: https://drive.google.com/uc?export=download&confirm=pbef&id=1-CI6-QoEmGiInV23-n_l6Yd8QGWerw8-\n",
            "To: c:\\Users\\miran\\Desktop\\gnn-assisted-fl\\femnist.tar.gz\n",
            "100%|██████████| 223M/223M [00:12<00:00, 17.6MB/s]\n"
          ]
        }
      ],
      "source": [
        "#  Download compressed dataset\n",
        "if not (home_dir / \"femnist.tar.gz\").exists():\n",
        "    id = \"1-CI6-QoEmGiInV23-n_l6Yd8QGWerw8-\"\n",
        "    gdown.download(\n",
        "        f\"https://drive.google.com/uc?export=download&confirm=pbef&id={id}\",\n",
        "        str(home_dir / \"femnist.tar.gz\"),\n",
        "    )\n",
        "    \n",
        "# Decompress dataset \n",
        "if not dataset_dir.exists():\n",
        "  !tar -xf {str(home_dir)}/femnist.tar.gz -C {str(home_dir)} 2> /dev/null\n",
        "  print(f\"Dataset extracted in {dataset_dir}\")"
      ]
    },
    {
      "cell_type": "markdown",
      "metadata": {
        "id": "6EVPpFjuwoBm"
      },
      "source": [
        "We also need the dataset object. We will use the same as in the previous lab."
      ]
    },
    {
      "cell_type": "code",
      "execution_count": 4,
      "metadata": {
        "id": "SIm5KbvaA23U"
      },
      "outputs": [],
      "source": [
        "if not (home_dir / \"femnist_dataset.py\").exists():\n",
        "    id = \"11xG4oIhdbVcDtXxbS2ZosDSJYAC0iL7q\"\n",
        "    gdown.download(\n",
        "        f\"https://drive.google.com/uc?export=download&confirm=pbef&id={id}\",\n",
        "        str(home_dir / \"femnist_dataset.py\"),\n",
        "    )\n",
        "if not (home_dir / \"client.py\").exists():\n",
        "    id = \"11xRc__g3iMOBRiQsPr9mDor5Ile_Pude\"\n",
        "    gdown.download(\n",
        "        f\"https://drive.google.com/uc?export=download&confirm=pbef&id={id}\",\n",
        "        str(home_dir / \"client.py\"),\n",
        "    )\n",
        "if not (home_dir / \"client_utils.py\").exists():\n",
        "    id = \"121UMOA7kg96rrZBe7vwt-2vgc-sTGu-X\"\n",
        "    gdown.download(\n",
        "        f\"https://drive.google.com/uc?export=download&confirm=pbef&id={id}\",\n",
        "        str(home_dir / \"client_utils.py\"),\n",
        "    )"
      ]
    },
    {
      "cell_type": "code",
      "execution_count": null,
      "metadata": {
        "id": "QgFzuw7wFNhI"
      },
      "outputs": [],
      "source": [
        "from femnist_dataset import FEMNIST"
      ]
    },
    {
      "cell_type": "markdown",
      "metadata": {
        "id": "cLx7-YaNud_e"
      },
      "source": [
        "### 2.1 Feature distribution skew"
      ]
    },
    {
      "cell_type": "markdown",
      "metadata": {
        "id": "P25sgH4ZH2Xg"
      },
      "source": [
        "Statisticians and data scientists refer to this property as \"covariate shift”. It happens when different clients present samples which describe ideally the same objects having slightly different features. That is the case for two different writers hand-writing the same word, since these may have different stroke widths, slants, etc.\n",
        "What happens to an FL setting in which this property is strong is not always predictable. Ideally, the global model, obtained using FedAvg, will try to learn a shared representation between clients. This could be problematic since clients have different features to represent their data. We could simply expect that the same seed model trained separately on local clients may perform better than a global model obtained in an FL training.\n",
        "\n",
        "To see this property in our chosen dataset we will show two images for the same number taken from different clients.\n",
        "*NOTE: the choice of clients and samples in the following is not random, but suitably made to show you the property.*"
      ]
    },
    {
      "cell_type": "code",
      "execution_count": 6,
      "metadata": {
        "colab": {
          "base_uri": "https://localhost:8080/",
          "height": 253
        },
        "id": "GQSu0BsBw_tO",
        "outputId": "ca9a8035-55f7-4112-af63-210f7c5bec35"
      },
      "outputs": [
        {
          "ename": "ValueError",
          "evalue": "Required files do not exist, path: c:\\Users\\miran\\Desktop\\gnn-assisted-fl\\femnist\\client_data_mappings\\fed_natural\\0\\train.csv",
          "output_type": "error",
          "traceback": [
            "\u001b[1;31m---------------------------------------------------------------------------\u001b[0m",
            "\u001b[1;31mValueError\u001b[0m                                Traceback (most recent call last)",
            "\u001b[1;32mc:\\Users\\miran\\Desktop\\gnn-assisted-fl\\single_experiment.ipynb Cell 9\u001b[0m in \u001b[0;36m1\n\u001b[1;32m----> <a href='vscode-notebook-cell:/c%3A/Users/miran/Desktop/gnn-assisted-fl/single_experiment.ipynb#X21sZmlsZQ%3D%3D?line=0'>1</a>\u001b[0m client_0_dataset: FEMNIST \u001b[39m=\u001b[39m FEMNIST(\n\u001b[0;32m      <a href='vscode-notebook-cell:/c%3A/Users/miran/Desktop/gnn-assisted-fl/single_experiment.ipynb#X21sZmlsZQ%3D%3D?line=1'>2</a>\u001b[0m     mapping\u001b[39m=\u001b[39;49mfederated_partition\u001b[39m/\u001b[39;49m\u001b[39m'\u001b[39;49m\u001b[39m0\u001b[39;49m\u001b[39m'\u001b[39;49m,\n\u001b[0;32m      <a href='vscode-notebook-cell:/c%3A/Users/miran/Desktop/gnn-assisted-fl/single_experiment.ipynb#X21sZmlsZQ%3D%3D?line=2'>3</a>\u001b[0m     data_dir\u001b[39m=\u001b[39;49mdata_dir,\n\u001b[0;32m      <a href='vscode-notebook-cell:/c%3A/Users/miran/Desktop/gnn-assisted-fl/single_experiment.ipynb#X21sZmlsZQ%3D%3D?line=3'>4</a>\u001b[0m     name\u001b[39m=\u001b[39;49m\u001b[39m'\u001b[39;49m\u001b[39mtrain\u001b[39;49m\u001b[39m'\u001b[39;49m\n\u001b[0;32m      <a href='vscode-notebook-cell:/c%3A/Users/miran/Desktop/gnn-assisted-fl/single_experiment.ipynb#X21sZmlsZQ%3D%3D?line=4'>5</a>\u001b[0m     )\n\u001b[0;32m      <a href='vscode-notebook-cell:/c%3A/Users/miran/Desktop/gnn-assisted-fl/single_experiment.ipynb#X21sZmlsZQ%3D%3D?line=5'>6</a>\u001b[0m client_1000_dataset: FEMNIST \u001b[39m=\u001b[39m FEMNIST(\n\u001b[0;32m      <a href='vscode-notebook-cell:/c%3A/Users/miran/Desktop/gnn-assisted-fl/single_experiment.ipynb#X21sZmlsZQ%3D%3D?line=6'>7</a>\u001b[0m     mapping\u001b[39m=\u001b[39mfederated_partition\u001b[39m/\u001b[39m\u001b[39m'\u001b[39m\u001b[39m1000\u001b[39m\u001b[39m'\u001b[39m,\n\u001b[0;32m      <a href='vscode-notebook-cell:/c%3A/Users/miran/Desktop/gnn-assisted-fl/single_experiment.ipynb#X21sZmlsZQ%3D%3D?line=7'>8</a>\u001b[0m     data_dir\u001b[39m=\u001b[39mdata_dir,\n\u001b[0;32m      <a href='vscode-notebook-cell:/c%3A/Users/miran/Desktop/gnn-assisted-fl/single_experiment.ipynb#X21sZmlsZQ%3D%3D?line=8'>9</a>\u001b[0m     name\u001b[39m=\u001b[39m\u001b[39m'\u001b[39m\u001b[39mtrain\u001b[39m\u001b[39m'\u001b[39m\n\u001b[0;32m     <a href='vscode-notebook-cell:/c%3A/Users/miran/Desktop/gnn-assisted-fl/single_experiment.ipynb#X21sZmlsZQ%3D%3D?line=9'>10</a>\u001b[0m     )\n\u001b[0;32m     <a href='vscode-notebook-cell:/c%3A/Users/miran/Desktop/gnn-assisted-fl/single_experiment.ipynb#X21sZmlsZQ%3D%3D?line=10'>11</a>\u001b[0m img_A, label_A \u001b[39m=\u001b[39m client_0_dataset[\u001b[39m4\u001b[39m]\n",
            "File \u001b[1;32mc:\\Users\\miran\\Desktop\\gnn-assisted-fl\\femnist_dataset.py:44\u001b[0m, in \u001b[0;36mFEMNIST.__init__\u001b[1;34m(self, mapping, data_dir, name, transform, target_transform)\u001b[0m\n\u001b[0;32m     41\u001b[0m \u001b[39mself\u001b[39m\u001b[39m.\u001b[39mmapping \u001b[39m=\u001b[39m mapping\n\u001b[0;32m     42\u001b[0m \u001b[39mself\u001b[39m\u001b[39m.\u001b[39mname \u001b[39m=\u001b[39m name\n\u001b[1;32m---> 44\u001b[0m \u001b[39mself\u001b[39m\u001b[39m.\u001b[39mdata: Sequence[Tuple[\u001b[39mstr\u001b[39m, \u001b[39mint\u001b[39m]] \u001b[39m=\u001b[39m \u001b[39mself\u001b[39;49m\u001b[39m.\u001b[39;49m_load_dataset()\n\u001b[0;32m     45\u001b[0m \u001b[39mself\u001b[39m\u001b[39m.\u001b[39mtransform: Optional[Callable[[ImageType], Any]] \u001b[39m=\u001b[39m transform\n\u001b[0;32m     46\u001b[0m \u001b[39mself\u001b[39m\u001b[39m.\u001b[39mtarget_transform: Optional[Callable[[\u001b[39mint\u001b[39m], Any]] \u001b[39m=\u001b[39m target_transform\n",
            "File \u001b[1;32mc:\\Users\\miran\\Desktop\\gnn-assisted-fl\\femnist_dataset.py:97\u001b[0m, in \u001b[0;36mFEMNIST._load_dataset\u001b[1;34m(self)\u001b[0m\n\u001b[0;32m     95\u001b[0m csv_path \u001b[39m=\u001b[39m (\u001b[39mself\u001b[39m\u001b[39m.\u001b[39mmapping\u001b[39m/\u001b[39m\u001b[39mself\u001b[39m\u001b[39m.\u001b[39mname)\u001b[39m.\u001b[39mwith_suffix(\u001b[39m\"\u001b[39m\u001b[39m.csv\u001b[39m\u001b[39m\"\u001b[39m)\n\u001b[0;32m     96\u001b[0m \u001b[39mif\u001b[39;00m \u001b[39mnot\u001b[39;00m csv_path\u001b[39m.\u001b[39mexists():\n\u001b[1;32m---> 97\u001b[0m     \u001b[39mraise\u001b[39;00m \u001b[39mValueError\u001b[39;00m(\u001b[39mf\u001b[39m\u001b[39m\"\u001b[39m\u001b[39mRequired files do not exist, path: \u001b[39m\u001b[39m{\u001b[39;00mcsv_path\u001b[39m}\u001b[39;00m\u001b[39m\"\u001b[39m)\n\u001b[0;32m     98\u001b[0m \u001b[39melse\u001b[39;00m:\n\u001b[0;32m     99\u001b[0m     \u001b[39mwith\u001b[39;00m \u001b[39mopen\u001b[39m(csv_path, mode\u001b[39m=\u001b[39m\u001b[39m\"\u001b[39m\u001b[39mr\u001b[39m\u001b[39m\"\u001b[39m) \u001b[39mas\u001b[39;00m csv_file:\n",
            "\u001b[1;31mValueError\u001b[0m: Required files do not exist, path: c:\\Users\\miran\\Desktop\\gnn-assisted-fl\\femnist\\client_data_mappings\\fed_natural\\0\\train.csv"
          ]
        }
      ],
      "source": [
        "client_0_dataset: FEMNIST = FEMNIST(\n",
        "    mapping=federated_partition/'0',\n",
        "    data_dir=data_dir,\n",
        "    name='train'\n",
        "    )\n",
        "client_1000_dataset: FEMNIST = FEMNIST(\n",
        "    mapping=federated_partition/'1000',\n",
        "    data_dir=data_dir,\n",
        "    name='train'\n",
        "    )\n",
        "img_A, label_A = client_0_dataset[4]\n",
        "img_B, label_B = client_1000_dataset[0]\n",
        "\n",
        "print(f\"For client 0, sample 4 has label {label_A}\")\n",
        "print(f\"For client 1000, sample 0 has label {label_B}\")\n",
        "# display images\n",
        "fig, ax = plt.subplots(1,2)\n",
        "ax[0].imshow(img_A)\n",
        "ax[1].imshow(img_B)"
      ]
    },
    {
      "cell_type": "markdown",
      "metadata": {
        "id": "o8BULdP73HYV"
      },
      "source": [
        "We can also compare the average values of all the features for all the samples of these clients having the label chosen. You can try to execute the cell below choosing different labels."
      ]
    },
    {
      "cell_type": "code",
      "execution_count": null,
      "metadata": {
        "colab": {
          "base_uri": "https://localhost:8080/",
          "height": 218
        },
        "id": "9xS7S-xk07dQ",
        "outputId": "f42a7c53-d12b-4c7c-8867-c7b99dceb976"
      },
      "outputs": [
        {
          "data": {
            "text/plain": [
              "<matplotlib.image.AxesImage at 0x7f246191dd60>"
            ]
          },
          "execution_count": 38,
          "metadata": {},
          "output_type": "execute_result"
        },
        {
          "data": {
            "image/png": "[encoded data removed]",
            "text/plain": [
              "<Figure size 432x288 with 2 Axes>"
            ]
          },
          "metadata": {
            "needs_background": "light"
          },
          "output_type": "display_data"
        }
      ],
      "source": [
        "label_chosen = 4\n",
        "features_0 = []\n",
        "for img, lbl in client_0_dataset:\n",
        "  if lbl == label_chosen:\n",
        "    features_0.append(np.asarray(img).flatten())\n",
        "\n",
        "features_1000 = []\n",
        "for img, lbl in client_1000_dataset:\n",
        "  if lbl == label_chosen:\n",
        "    features_1000.append(np.asarray(img).flatten())\n",
        "\n",
        "# display images\n",
        "fig, ax = plt.subplots(1,2)\n",
        "ax[0].imshow((np.sum(features_0, axis=0)/len(features_0)).reshape((28,28)))\n",
        "ax[1].imshow((np.sum(features_1000, axis=0)/len(features_1000)).reshape((28,28)))"
      ]
    },
    {
      "cell_type": "code",
      "execution_count": null,
      "metadata": {
        "colab": {
          "base_uri": "https://localhost:8080/",
          "height": 218
        },
        "id": "KbPKX2SuWFcr",
        "outputId": "3edbabad-0e98-4f6e-9e6a-4e68536a5984"
      },
      "outputs": [
        {
          "data": {
            "text/plain": [
              "<matplotlib.image.AxesImage at 0x7f24618a1220>"
            ]
          },
          "execution_count": 39,
          "metadata": {},
          "output_type": "execute_result"
        },
        {
          "data": {
            "image/png": "[encoded data removed]",
            "text/plain": [
              "<Figure size 432x288 with 2 Axes>"
            ]
          },
          "metadata": {
            "needs_background": "light"
          },
          "output_type": "display_data"
        }
      ],
      "source": [
        "label_chosen = 1\n",
        "features_0 = []\n",
        "for img, lbl in client_0_dataset:\n",
        "  if lbl == label_chosen:\n",
        "    features_0.append(np.asarray(img).flatten())\n",
        "\n",
        "features_1000 = []\n",
        "for img, lbl in client_1000_dataset:\n",
        "  if lbl == label_chosen:\n",
        "    features_1000.append(np.asarray(img).flatten())\n",
        "\n",
        "# display images\n",
        "fig, ax = plt.subplots(1,2)\n",
        "ax[0].imshow((np.sum(features_0, axis=0)/len(features_0)).reshape((28,28)))\n",
        "ax[1].imshow((np.sum(features_1000, axis=0)/len(features_1000)).reshape((28,28)))"
      ]
    },
    {
      "cell_type": "markdown",
      "metadata": {
        "id": "1MbYTin-77BR"
      },
      "source": [
        "It is worth having a glance on what are the consequences of this property on an FL experiment. To do that we will re-use the code for training an FL client from the previous lab.\n",
        "\n",
        "The following cell is thus meant to import objects and methods you have already used in the previous lab. There's nothing new in the cell below."
      ]
    },
    {
      "cell_type": "code",
      "execution_count": null,
      "metadata": {
        "id": "Hb6M0AD4FdOP"
      },
      "outputs": [],
      "source": [
        "from client_utils import to_tensor_transform, get_network_generator_mlp, get_network_generator_cnn, get_model_parameters, Net, get_federated_evaluation_function, aggregate_weighted_average\n",
        "from client import FlowerRayClient, get_flower_client_generator"
      ]
    },
    {
      "cell_type": "markdown",
      "metadata": {
        "id": "F_hZ8ZKqAwsY"
      },
      "source": [
        "In order to show on a small scale what can happen to FL training setups where clients have feature distribution skew, we will now build two toy settings. We choose the most populated client---the one with the most samples in the federation. We will then construct a second version of this same client by artificially changing its features by inverting the underlying images--- transforming each image into its negative. Furthermore, we need a specific `get_flower_client_generator` able to invert the images of a specific client.\n",
        "\n",
        "In the following, we provide the relevant methods to do that. These methods are simplified taking advantage of the federation being composed of just two clients."
      ]
    },
    {
      "cell_type": "code",
      "execution_count": null,
      "metadata": {
        "id": "Y420LYKH_8BL"
      },
      "outputs": [],
      "source": [
        "def load_FEMNIST_inverted_dataset(mapping: Path, name: str) -> Dataset:\n",
        "    \"\"\"Function to load the filterd FEMNIST dataset given the mapping .csv file.\n",
        "    The relevant transforms are automatically applied.\n",
        "    Note that the last transform will invert images, getting their negative representation.\n",
        "\n",
        "    Args:\n",
        "        mapping (Path): path to the mapping .csv file chosen.\n",
        "        name (str): name of the dataset to load, train or test.\n",
        "\n",
        "    Returns:\n",
        "        Dataset: FEMNIST dataset object, ready to use.\n",
        "    \"\"\"\n",
        "    transform = transforms.Compose(\n",
        "        [\n",
        "            transforms.ToTensor(),\n",
        "            transforms.functional.invert,\n",
        "        ]\n",
        "    )\n",
        "\n",
        "    return FEMNIST(\n",
        "        mapping=mapping,\n",
        "        name=name,\n",
        "        data_dir=data_dir,\n",
        "        transform=transform,\n",
        "        target_transform=to_tensor_transform)\n",
        "\n",
        "def _load_inverted_dataset(self, name) -> Dataset:\n",
        "    full_file: Path = self.partition_dir / str(self.cid)\n",
        "    return load_FEMNIST_inverted_dataset(\n",
        "        mapping=full_file,\n",
        "        name=name)\n",
        "    \n",
        "def get_mod_flower_client_generator(\n",
        "  model_generator: Callable[[], Module],\n",
        "  data_dir: Path,\n",
        "  partition_dir: Path,\n",
        "  mapping_fn: Optional[Callable[[int], int]] = None,\n",
        ") -> Callable[[str], FlowerRayClient]:\n",
        "    \"\"\"Wrapper function for the client instance generator.\n",
        "    This provides the client generator with a model generator function.\n",
        "    Also, the partition directory must be passed.\n",
        "    A mapping function could be used for filtering/ordering clients.\n",
        "    Note that the \"even\" clients here will have a modified `_load_dataset` function.\n",
        "    The new `_load_dataset` has been chosen to be the one inverting the images.\n",
        "\n",
        "    Args:\n",
        "        data_dir (Path): path to the dataset folder.\n",
        "        model_generator (Callable[[], Module]): model generator function.\n",
        "        partition_dir (Path): directory containing the partition.\n",
        "        mapping_fn (Optional[Callable[[int], int]]): function mapping sorted/filtered ids to real cid.\n",
        "\n",
        "    Returns:\n",
        "        Callable[[str], FlowerRayClient]: client instance.\n",
        "    \"\"\"\n",
        "    def client_fn(cid: str) -> FlowerRayClient:\n",
        "        \"\"\"Creates a single client instance given the client id `cid`.\n",
        "\n",
        "        Args:\n",
        "            cid (str): client id, Flower requires this to of type str.\n",
        "\n",
        "        Returns:\n",
        "            FlowerRayClient: client instance.\n",
        "        \"\"\"\n",
        "        print(f\"Getting client with id {cid}\")\n",
        "        actual_cid = mapping_fn(int(cid)) if mapping_fn is not None else int(cid)\n",
        "        client = FlowerRayClient(\n",
        "            cid=actual_cid,\n",
        "            data_dir=data_dir,\n",
        "            partition_dir=partition_dir,\n",
        "            model_generator=model_generator,\n",
        "        )\n",
        "        client.device = get_device()\n",
        "        # Pay attention to the following two lines\n",
        "        if int(cid)%2 == 0:\n",
        "          client._load_dataset = _load_inverted_dataset.__get__(client, FlowerRayClient)\n",
        "        return client\n",
        "\n",
        "    return client_fn"
      ]
    },
    {
      "cell_type": "markdown",
      "metadata": {
        "id": "V6-ipEzaY8QY"
      },
      "source": [
        "We will now try to train separately the two clients generated this way. The mapping function will be provided to point both client IDs to the data of the most populated client.\n",
        "```python\n",
        "mapping_dict = {0: '178', 1: '178'}\n",
        "```\n",
        "*NOTE: you may want _to experiment _with _different__ clients here_. After having completed the lab, feel free to try!*\n",
        "\n",
        "The following cell will set the relevant configuration for both training and testing of the client and its inverted version.\n",
        "\n",
        "**IMPORTANT: the architecture used here is an MLP because it is affected by inversion of images.**"
      ]
    },
    {
      "cell_type": "code",
      "execution_count": null,
      "metadata": {
        "id": "8_ZCNLJRZoah"
      },
      "outputs": [],
      "source": [
        "torch.manual_seed(Seeds.DEFAULT)\n",
        "network_generator_mlp = get_network_generator_mlp()\n",
        "seed_net_mlp = network_generator_mlp()\n",
        "seed_model_mlp_params: NDArrays = get_model_parameters(seed_net_mlp)\n",
        "train_config: Dict[str, Any] = {\n",
        "    \"epochs\": 5,\n",
        "    \"batch_size\": 32,\n",
        "    \"client_learning_rate\": 0.01,\n",
        "    \"weight_decay\": 0.001,\n",
        "    \"num_workers\": 2,\n",
        "}\n",
        "# NOTE: this dict will be used as it is for the rest of the notebook\n",
        "test_config: Dict[str, Any] = {\n",
        "    \"batch_size\": 32,\n",
        "    \"num_workers\": 2,\n",
        "}\n",
        "# Here is the mapping\n",
        "mapping_dict = {0: '178', 1: '178'}\n",
        "# NOTE: we are using here the `get_mod_flower_client_generator`\n",
        "federated_mod_flower_client_generator: Callable[\n",
        "    [int], FlowerRayClient\n",
        "] = get_mod_flower_client_generator(network_generator_mlp, data_dir, federated_partition, mapping_fn=lambda x: mapping_dict[x]) # type: ignore\n",
        "# NOTE: we are using here the `get_flower_client_generator`\n",
        "federated_flower_client_generator: Callable[\n",
        "    [int], FlowerRayClient\n",
        "] = get_flower_client_generator(network_generator_mlp, data_dir, federated_partition, mapping_fn=lambda x: mapping_dict[x]) # type: ignore"
      ]
    },
    {
      "cell_type": "markdown",
      "metadata": {
        "id": "zLqrKFqtaIYh"
      },
      "source": [
        "Let's train separately the two versions of the client and then mutually evaluate their models."
      ]
    },
    {
      "cell_type": "code",
      "execution_count": null,
      "metadata": {
        "colab": {
          "base_uri": "https://localhost:8080/"
        },
        "id": "fWYktaFiaH3d",
        "outputId": "11cf6d6e-c24c-4850-f0d4-0541da501e72"
      },
      "outputs": [
        {
          "name": "stdout",
          "output_type": "stream",
          "text": [
            "Getting client with id 0\n",
            "Getting client with id 1\n"
          ]
        },
        {
          "name": "stderr",
          "output_type": "stream",
          "text": [
            "100%|██████████| 5/5 [00:02<00:00,  1.93it/s]\n"
          ]
        },
        {
          "name": "stdout",
          "output_type": "stream",
          "text": [
            "Results of fitting the seed model on client 0:\n",
            "\t[13, {'train_loss': 0.04750089146769964}]\n"
          ]
        },
        {
          "name": "stderr",
          "output_type": "stream",
          "text": [
            "100%|██████████| 2/2 [00:00<00:00,  9.27it/s]\n"
          ]
        },
        {
          "name": "stdout",
          "output_type": "stream",
          "text": [
            "Results of evaluating model trained on client 0 on the test set of client 0:\n",
            "\t(6.324357986450195, 2, {'local_accuracy': 0.5531914893617021})\n"
          ]
        },
        {
          "name": "stderr",
          "output_type": "stream",
          "text": [
            "100%|██████████| 5/5 [00:02<00:00,  2.19it/s]\n"
          ]
        },
        {
          "name": "stdout",
          "output_type": "stream",
          "text": [
            "Results of fitting the seed model on client 1:\n",
            "\t[13, {'train_loss': 0.1156758448252311}]\n"
          ]
        },
        {
          "name": "stderr",
          "output_type": "stream",
          "text": [
            "100%|██████████| 2/2 [00:00<00:00,  5.04it/s]\n"
          ]
        },
        {
          "name": "stdout",
          "output_type": "stream",
          "text": [
            "Results of evaluating model trained on client 1 on the test set of client 1:\n",
            "\t(7.643922567367554, 2, {'local_accuracy': 0.14893617021276595})\n"
          ]
        },
        {
          "name": "stderr",
          "output_type": "stream",
          "text": [
            "100%|██████████| 2/2 [00:00<00:00,  4.79it/s]\n"
          ]
        },
        {
          "name": "stdout",
          "output_type": "stream",
          "text": [
            "Results of evaluating model trained on client 1 on the test set of client 0:\n",
            "\t(7.991089820861816, 2, {'local_accuracy': 0.14893617021276595})\n"
          ]
        },
        {
          "name": "stderr",
          "output_type": "stream",
          "text": [
            "100%|██████████| 2/2 [00:00<00:00,  4.98it/s]"
          ]
        },
        {
          "name": "stdout",
          "output_type": "stream",
          "text": [
            "Results of evaluating model trained on client 0 on the test set of client 1:\n",
            "\t(64.07830429077148, 2, {'local_accuracy': 0.0})\n"
          ]
        },
        {
          "name": "stderr",
          "output_type": "stream",
          "text": [
            "\n"
          ]
        }
      ],
      "source": [
        "# creating clients\n",
        "client_0 = federated_mod_flower_client_generator(0)\n",
        "client_1 = federated_mod_flower_client_generator(1)\n",
        "# fitting client 0\n",
        "client_0_params, *rest = fit_client_seeded(client_0, seed_model_mlp_params, train_config)\n",
        "print(f'Results of fitting the seed model on client 0:\\n\\t{rest}')\n",
        "# evaluating client 0 on model trained on client 0\n",
        "client_0_res = client_0.evaluate(client_0_params, test_config)\n",
        "print(f'Results of evaluating model trained on client 0 on the test set of client 0:\\n\\t{client_0_res}')\n",
        "# fitting client 1\n",
        "client_1_params, *rest = fit_client_seeded(client_1, seed_model_mlp_params, train_config)\n",
        "print(f'Results of fitting the seed model on client 1:\\n\\t{rest}')\n",
        "# evaluating client 1 on model trained on client 1\n",
        "client_1_res = client_1.evaluate(client_1_params, test_config)\n",
        "print(f'Results of evaluating model trained on client 1 on the test set of client 1:\\n\\t{client_1_res}')\n",
        "\n",
        "\n",
        "# evaluating client 0 on model trained on client 0\n",
        "client_0_res = client_0.evaluate(client_1_params, test_config)\n",
        "print(f'Results of evaluating model trained on client 1 on the test set of client 0:\\n\\t{client_0_res}')\n",
        "# evaluating client 1 on model trained on client 1\n",
        "client_1_res = client_1.evaluate(client_0_params, test_config)\n",
        "print(f'Results of evaluating model trained on client 0 on the test set of client 1:\\n\\t{client_1_res}')"
      ]
    },
    {
      "cell_type": "markdown",
      "metadata": {
        "id": "T2I9CswibRCb"
      },
      "source": [
        "In the following cell, we will set up all the relevant methods and parameters to run an FL simulation."
      ]
    },
    {
      "cell_type": "code",
      "execution_count": null,
      "metadata": {
        "id": "nZp8k3HSkfkk"
      },
      "outputs": [],
      "source": [
        "on_evaluate_config_fn: Callable[[int], Dict[str, Scalar]] = lambda cid: test_config\n",
        "accept_failures = False\n",
        "server_learning_rate = 1.0\n",
        "min_fit_clients = 2\n",
        "min_evaluate_clients = 2\n",
        "min_available_clients = 2\n",
        "initial_parameters: Parameters = ndarrays_to_parameters(seed_model_mlp_params)\n",
        "client_resources = {\n",
        "    \"num_gpus\": 1.0/2 if get_device() == 'cuda' else 0.0, # maximum amount of resources that a client can take\n",
        "}"
      ]
    },
    {
      "cell_type": "code",
      "execution_count": null,
      "metadata": {
        "id": "9pEHYQedk8xW"
      },
      "outputs": [],
      "source": [
        "on_fit_config_fn: Callable[[int], Dict[str, Scalar]] = lambda cid: train_config\n",
        "# NOTE: we don't need the `federated_evaluation_function` because we care about\n",
        "# the distributed accuracy.\n",
        "strategy = FedAvg(\n",
        "    min_fit_clients=min_fit_clients,\n",
        "    min_evaluate_clients=min_evaluate_clients,\n",
        "    min_available_clients=min_available_clients,\n",
        "    on_fit_config_fn=on_fit_config_fn,\n",
        "    on_evaluate_config_fn=on_evaluate_config_fn,\n",
        "    initial_parameters=initial_parameters,\n",
        "    accept_failures=accept_failures,\n",
        "    fit_metrics_aggregation_fn=aggregate_weighted_average,\n",
        "    evaluate_metrics_aggregation_fn=aggregate_weighted_average,\n",
        "    server_learning_rate=server_learning_rate,\n",
        ")"
      ]
    },
    {
      "cell_type": "markdown",
      "metadata": {
        "id": "6DZfkIkaYPME"
      },
      "source": [
        "**Question 1 (Part II ✅ | Part III/MPhil ✅):**\n",
        "\n",
        "(You need to provide the answer with **code** and **plots** for this question. A short written argumentation is recommended.)\n",
        "\n",
        "\n",
        "1. Using the methods implemented so far, set up two FL settings composed of the clients above. One has both clients with their original dataset, and the other has one client with their features inverted. *(Hint: use `federated_flower_client_generator` for the first setting and `federated_mod_flower_client_generator` for the second setting)*\n",
        "2. Train the two settings generated at 1) for 5 rounds using `fl.simulation.start_simulation`. Set `num_clients=2` to use only client IDs in `[0,1]`. Use the `strategy` from the cell above.\n",
        "3. Take note of the evaluation metrics of both FL experiments that you have done. Compare the two using those metrics (plots are recommended). Briefly discuss the results."
      ]
    },
    {
      "cell_type": "markdown",
      "metadata": {
        "id": "0mTgAc5yYVny"
      },
      "source": [
        "### 2.2 Label distribution skew"
      ]
    },
    {
      "cell_type": "markdown",
      "metadata": {
        "id": "IE6yFy4sH79L"
      },
      "source": [
        "The flavour of data heterogeneity we are dealing with in this subsection is often called “prior probability shift\". In a few words, this occurs when, given a particular label, the distribution of samples having that label differs from client to client. In our running example, we can see whether in FEMNIST happens that different clients have drawn different distributions of symbols.\n",
        "We can think about what could happen to an FL training in this situation simplifying a bit the actors in a play. Let's imagine that the federation has a subset of clients (one client: client 0) that is the only one having a specific subset of labels (say letters). A global model trained using FedAvg on that federation won't ever be able to learn well the representation of that subset of labels (letters). There exist methods to mitigate this particular situation, but often they involve sharing statistics about local datasets, thus creating privacy concerns.\n",
        "\n",
        "We will select two clients, then we will plot the histogram of the labels for each of them on the same canvas. Thus, we will be able to evaluate whether there is a qualitative difference between the two."
      ]
    },
    {
      "cell_type": "code",
      "execution_count": null,
      "metadata": {
        "colab": {
          "base_uri": "https://localhost:8080/",
          "height": 282
        },
        "id": "CobK_i5-cwxI",
        "outputId": "876d5ead-de3b-4012-8e3f-810691e1c944"
      },
      "outputs": [
        {
          "data": {
            "text/plain": [
              "<matplotlib.legend.Legend at 0x7f246a1df3d0>"
            ]
          },
          "execution_count": 46,
          "metadata": {},
          "output_type": "execute_result"
        },
        {
          "data": {
            "image/png": "[encoded data removed]",
            "text/plain": [
              "<Figure size 432x288 with 1 Axes>"
            ]
          },
          "metadata": {
            "needs_background": "light"
          },
          "output_type": "display_data"
        }
      ],
      "source": [
        "client_3000_dataset: FEMNIST = FEMNIST(\n",
        "    mapping=federated_partition/'3000',\n",
        "    data_dir=data_dir,\n",
        "    name='train'\n",
        "    )\n",
        "plt.hist([int(x[1]) for x in client_0_dataset], bins=62, color=\"blue\", alpha=0.7, label=\"client 0\")\n",
        "plt.hist([int(x[1]) for x in client_3000_dataset], bins=62, color=\"orange\", alpha=0.7, label=\"client 3000\")\n",
        "plt.legend()"
      ]
    },
    {
      "cell_type": "markdown",
      "metadata": {
        "id": "3ekusyXpeLy3"
      },
      "source": [
        "**Question 2 (Part II ✅ | Part III/MPhil ✅):**\n",
        "\n",
        "(These are meant to be conceptual questions. You should provide written answers for these. **No more than 3 sentences each**. **No code** is needed)\n",
        "\n",
        "1. If we ignore the privacy assumption of FL and allow the overall label distribution to be known, how could we balance the set of selected clients to guide the federated model towards a similar per-class accuracy that the centralised model can achieve? Assume FedAvg and the usual client implementation in your reasoning.\n",
        "2. Can you design an automatic data-driven procedure to mitigate label skew? Assume you are operating on a client level, keeping data private, and using standard FedAvg with random client selection. "
      ]
    },
    {
      "cell_type": "markdown",
      "metadata": {
        "id": "ZR7M2rpHJ5kO"
      },
      "source": [
        "### 2.3 Quantity skew"
      ]
    },
    {
      "cell_type": "markdown",
      "metadata": {
        "id": "amXbWzGcIACk"
      },
      "source": [
        "The last kind of heterogeneity we will discuss in detail is the *quantity skew*, which occurs when clients possess different numbers of samples. Last, but not least, it is the most investigated property that real FL datasets have. Also called “unbalancedness\", it has been tackled using many techniques spanning from data manipulation to optimization algorithm design. Even if the literature regarding such techniques is quite broad, relative to FL being a new topic of research, there is still not any agreement about how to deal with unbalancedness. Often different solutions have different accuracy depending on the task and how unbalanced the FL dataset is.\n",
        "\n",
        "Those of you that have well-trained observation skills may recall a plot in the last lab that spoiled this property. Now we'll try to get the global view of FEMNIST data from this perspective."
      ]
    },
    {
      "cell_type": "code",
      "execution_count": null,
      "metadata": {
        "colab": {
          "base_uri": "https://localhost:8080/",
          "height": 279
        },
        "id": "T-bzX0KvhZ5z",
        "outputId": "c4a7ee39-f56f-4db7-c9e3-ea89c905e7d6"
      },
      "outputs": [
        {
          "data": {
            "image/png": "[encoded data removed]",
            "text/plain": [
              "<Figure size 432x288 with 1 Axes>"
            ]
          },
          "metadata": {
            "needs_background": "light"
          },
          "output_type": "display_data"
        }
      ],
      "source": [
        "sns.histplot(\n",
        "    alpha=0.15,\n",
        "    legend=True,\n",
        "    data=[len(FEMNIST(\n",
        "    mapping=federated_partition/str(i),\n",
        "    data_dir=data_dir,\n",
        "    name='train'\n",
        "    )) for i in range(3229)],\n",
        "    fill=True,\n",
        "    kde=True,\n",
        "    element=\"step\",\n",
        "    stat=\"density\",\n",
        "    common_norm=False,\n",
        "    common_bins=True,\n",
        "    cbar=True,\n",
        "    palette=\"dark\",\n",
        ")\n",
        "plt.xlabel(\"# samples\")\n",
        "plt.show()"
      ]
    },
    {
      "cell_type": "markdown",
      "metadata": {
        "id": "sCkfjXY1hX7D"
      },
      "source": [
        "**Question 3 (Part II ✅ | Part III/MPhil ✅):**\n",
        "\n",
        "(These are meant to be conceptual questions. You should provide written answers for these. **No more than 3 sentences each**. **No code** is needed)\n",
        "\n",
        "1. How does the FedAvg weighting strategy interact with quantity skew?\n",
        "2. What would you change in the weighting strategy of FedAvg in order to make it fairer towards clients with few samples?"
      ]
    },
    {
      "cell_type": "markdown",
      "metadata": {
        "id": "RFYZaMvAcaYV"
      },
      "source": [
        "# 3. The behaviour of FL under data heterogeneity/creating heterogeneous partitions\n",
        "\n"
      ]
    },
    {
      "cell_type": "markdown",
      "metadata": {
        "id": "zemO_m5s2Bff"
      },
      "source": [
        "## FEMNIST folder structure\n",
        "\n"
      ]
    },
    {
      "cell_type": "markdown",
      "metadata": {
        "id": "OsTGyV4ms_bm"
      },
      "source": [
        "By default, FEMNIST will be split as follows:\n",
        "\n",
        "- `femnist`: the location of the relevant data\n",
        "  - `client_data_mappings`: contains different partitions\n",
        "    - `centralized`: mappings from writer_id -> `[image_path, label]` for the centralized dataset\n",
        "    - `fed_natural`: mappings from writer_id -> `[image_path, label]` for the naturally federated dataset\n",
        "  - `data`: contains the macro partitions between test, train, and val\n",
        "    - `train`: contains the raw images---samples of the train set\n",
        "    - `test`: contains the raw images---samples of the test set\n",
        "    - `val`: contains the raw images---samples of the val set\n",
        "- `femnist.tar.gz`: the compressed dataset\n",
        "\n",
        "We will store client datasets in sequentially labelled folders within each partition and do all necessary remapping in python."
      ]
    },
    {
      "cell_type": "code",
      "execution_count": null,
      "metadata": {
        "colab": {
          "base_uri": "https://localhost:8080/"
        },
        "id": "oZjU-2dyrVxC",
        "outputId": "ff22ac9e-73f4-476c-caf6-dfca749f0154"
      },
      "outputs": [
        {
          "name": "stdout",
          "output_type": "stream",
          "text": [
            "\u001b[01;34m./\u001b[00m\n",
            "├── \u001b[01;34mfemnist\u001b[00m\n",
            "│   ├── \u001b[01;34mclient_data_mappings\u001b[00m\n",
            "│   │   ├── \u001b[01;34mcentralized\u001b[00m\n",
            "│   │   ├── \u001b[01;34mclass_unbalanced\u001b[00m\n",
            "│   │   └── \u001b[01;34mfed_natural\u001b[00m\n",
            "│   └── \u001b[01;34mdata\u001b[00m\n",
            "│       ├── \u001b[01;34mtest\u001b[00m\n",
            "│       ├── \u001b[01;34mtrain\u001b[00m\n",
            "│       └── \u001b[01;34mval\u001b[00m\n",
            "├── \u001b[01;34m__pycache__\u001b[00m\n",
            "└── \u001b[01;34msample_data\u001b[00m\n",
            "\n",
            "11 directories\n"
          ]
        }
      ],
      "source": [
        "# Showing resulting folder tree\n",
        "! tree -dC -L 3 ./"
      ]
    },
    {
      "cell_type": "markdown",
      "metadata": {
        "id": "O_QqLvPZ2Bff"
      },
      "source": [
        "## Test sets for FL"
      ]
    },
    {
      "cell_type": "markdown",
      "metadata": {
        "id": "VhsBuoiOtDzE"
      },
      "source": [
        "Prior to constructing our centralized partition, it is necessary to discuss what a test set even means for FL.\n",
        "\n",
        "A testing set can generally be either a **federated test set** or a **local test set**: \n",
        "\n",
        "- A federated test set contains data representative of the entire federated network and is used to provide a form of centralized-like evaluation of the federated model. In production scenarios, this would be data that has been consensually gathered from a multitude of users and is legal/efficient to store on the server or clients which have been kept out of the training loop. For research purposes it can be constructed in one of the two following ways:\n",
        "  - Take x% of data from all clients and save it separately. \n",
        "  - Leave y% of clients utterly unavailable for federated training and use their data as a test/validation set. **This is the version we shall use during the lab for the federated test set.**\n",
        "- A local test set is formed via data from a specific client which has not been seen during training. There are as many local test sets as there are clients. As such, they can be used to test the model on a specific client or to accumulate average statistics to determine its performance."
      ]
    },
    {
      "cell_type": "markdown",
      "metadata": {
        "id": "PEnNRUzntSHQ"
      },
      "source": [
        "## Creating and using partitions"
      ]
    },
    {
      "cell_type": "markdown",
      "metadata": {
        "id": "8XBPXfzPtkJe"
      },
      "source": [
        "### Class unbalancedness"
      ]
    },
    {
      "cell_type": "markdown",
      "metadata": {
        "id": "xEzJSW4TvEmK"
      },
      "source": [
        "We will start creating class unbalanced partitions. The most representative example, as often happens, is the extreme one. Thus, we are going to create a partition of the dataset in which each client possesses one class only. This aim sets one parameter for the creation of the current partition, but we need to choose also another parameter: the number of clients we want to create or the number of samples per client that we want to infer. These last are two antagonist parameters that describe the same thing. The larger the number of clients is, the lower the number of samples per client is.\n",
        "\n",
        "Let's start by looking at how labels are distributed in the entire dataset (test set only), by treating the dataset as centralized."
      ]
    },
    {
      "cell_type": "code",
      "execution_count": null,
      "metadata": {
        "colab": {
          "base_uri": "https://localhost:8080/",
          "height": 337
        },
        "id": "yLEQJLkjwM4u",
        "outputId": "704b99b0-a234-4327-e692-43531e1ce524"
      },
      "outputs": [
        {
          "data": {
            "text/plain": [
              "<matplotlib.legend.Legend at 0x7f24d009ee20>"
            ]
          },
          "execution_count": 49,
          "metadata": {},
          "output_type": "execute_result"
        },
        {
          "data": {
            "image/png": "[encoded data removed]",
            "text/plain": [
              "<Figure size 720x360 with 2 Axes>"
            ]
          },
          "metadata": {
            "needs_background": "light"
          },
          "output_type": "display_data"
        }
      ],
      "source": [
        "centralized_train_dataset: FEMNIST = FEMNIST(\n",
        "    mapping=centralized_partition/'0',\n",
        "    data_dir=data_dir,\n",
        "    name='train'\n",
        "    )\n",
        "centralized_test_dataset: FEMNIST = FEMNIST(\n",
        "    mapping=centralized_partition/'0',\n",
        "    data_dir=data_dir,\n",
        "    name='test'\n",
        "    )\n",
        "fig, ax = plt.subplots(1,2,figsize=(10,5))\n",
        "train_histo = ax[0].hist([int(x[1]) for x in centralized_train_dataset.data], bins=62, color=\"blue\", alpha=0.7, label=\"centralized train dataset\")\n",
        "test_histo = ax[1].hist([int(x[1]) for x in centralized_test_dataset.data], bins=62, color=\"orange\", alpha=0.7, label=\"centralized test dataset\")\n",
        "ax[0].legend()\n",
        "ax[1].legend()"
      ]
    },
    {
      "cell_type": "markdown",
      "metadata": {
        "id": "0AWfsLZo9jmi"
      },
      "source": [
        "Since the distribution is all but uniform, we need to make a further choice. We want to build a federation of 62 clients each of them having one class only. We want all the classes to be represented in the federation. Likewise, we also want FedAvg to treat equally all the clients in the federation. Thus, we will need to partition clients taking into account the population of the least represented class in both the `train` and the `test` set."
      ]
    },
    {
      "cell_type": "code",
      "execution_count": null,
      "metadata": {
        "colab": {
          "base_uri": "https://localhost:8080/"
        },
        "id": "1_yGo1zI9UyA",
        "outputId": "dc57594b-63b0-46e5-e59b-3902ac8e29f8"
      },
      "outputs": [
        {
          "name": "stdout",
          "output_type": "stream",
          "text": [
            "The least represented class in the train set has 1786.0 samples\n",
            "The least represented class in the test set has 233.0 samples\n"
          ]
        }
      ],
      "source": [
        "print(f'The least represented class in the train set has {min(train_histo[0])} samples')\n",
        "print(f'The least represented class in the test set has {min(test_histo[0])} samples')\n",
        "max_train_samples = int(min(train_histo[0]))\n",
        "max_test_samples = int(min(test_histo[0]))"
      ]
    },
    {
      "cell_type": "markdown",
      "metadata": {
        "id": "OuvZvcU3_eq0"
      },
      "source": [
        "Let's now create the function that creates the partition. We will stick to the folder structure the dataset has."
      ]
    },
    {
      "cell_type": "code",
      "execution_count": null,
      "metadata": {
        "id": "fvJS4NX5_r-F"
      },
      "outputs": [],
      "source": [
        "class_unbalanced_partition: Path = dataset_dir / 'client_data_mappings' / 'class_unbalanced'\n",
        "class_unbalanced_partition.mkdir(parents=True, exist_ok=True)\n",
        "train_df = pd.read_csv(centralized_mapping/'train.csv')\n",
        "test_df = pd.read_csv(centralized_mapping/'test.csv')\n",
        "max_train_samples = 200\n",
        "max_test_samples = 50\n",
        "for i in range(62):\n",
        "  folder_path: Path = class_unbalanced_partition / str(i)\n",
        "  folder_path.mkdir(parents=True, exist_ok=True)\n",
        "\n",
        "  train_path: Path = folder_path / \"train.csv\"\n",
        "  test_path: Path = folder_path / \"test.csv\"\n",
        "\n",
        "  client_df = deepcopy(train_df[train_df.label == i].sample(frac=1)[:max_train_samples]).reset_index()\n",
        "  client_df['client_id'] = i\n",
        "  client_df.drop(columns=['level_0'], inplace=True)\n",
        "  client_df.to_csv(train_path, index=False)\n",
        "  client_df = deepcopy(test_df[test_df.label == i].sample(frac=1)[:max_test_samples]).reset_index()\n",
        "  client_df['client_id'] = i\n",
        "  client_df.drop(columns=['level_0'], inplace=True)\n",
        "  client_df.to_csv(test_path, index=False)"
      ]
    },
    {
      "cell_type": "code",
      "execution_count": null,
      "metadata": {
        "id": "z0Bj3btM9llx"
      },
      "outputs": [],
      "source": [
        "torch.manual_seed(Seeds.DEFAULT)\n",
        "network_generator_cnn = get_network_generator_cnn()\n",
        "seed_net_cnn = network_generator_cnn()\n",
        "seed_model_cnn_params: NDArrays = get_model_parameters(seed_net_cnn)"
      ]
    },
    {
      "cell_type": "code",
      "execution_count": null,
      "metadata": {
        "id": "pRiXe-eU9m4u"
      },
      "outputs": [],
      "source": [
        "# NOTE: the functions in this cell will be used as they are for the rest of the notebook\n",
        "federated_evaluation_function = get_federated_evaluation_function(\n",
        "    data_dir=data_dir,\n",
        "    centralized_mapping=centralized_mapping,\n",
        "    device=get_device(),\n",
        "    batch_size=test_config[\"batch_size\"],\n",
        "    num_workers=test_config[\"num_workers\"],\n",
        "    model_generator=network_generator_cnn,\n",
        "    criterion=nn.CrossEntropyLoss(),\n",
        ")"
      ]
    },
    {
      "cell_type": "code",
      "execution_count": null,
      "metadata": {
        "id": "3FfDy9F09oZE"
      },
      "outputs": [],
      "source": [
        "# NOTE: these parameters will have the same value for the rest of the notebook\n",
        "accept_failures = False\n",
        "server_learning_rate = 1.0\n",
        "min_fit_clients = 2\n",
        "min_evaluate_clients = 0\n",
        "min_available_clients = 2\n",
        "initial_parameters: Parameters = ndarrays_to_parameters(seed_model_cnn_params)\n",
        "client_resources = {\n",
        "    \"num_gpus\": 1.0/2 if get_device() == 'cuda' else 0.0, # maximum amount of resources that a client can take\n",
        "    \"num_cpus\": 1.0, # num_clients_per_round,\n",
        "}"
      ]
    },
    {
      "cell_type": "code",
      "execution_count": null,
      "metadata": {
        "id": "Z0Ohncc3DLJG"
      },
      "outputs": [],
      "source": [
        "unbalanced_flower_client_generator: Callable[\n",
        "    [int], FlowerRayClient\n",
        "] = get_flower_client_generator(network_generator_cnn, data_dir, class_unbalanced_partition) # type: ignore"
      ]
    },
    {
      "cell_type": "code",
      "execution_count": null,
      "metadata": {
        "id": "iuSAFGmXDgYT"
      },
      "outputs": [],
      "source": [
        "train_config: Dict[str, Any] = {\n",
        "    \"epochs\": 8,\n",
        "    \"batch_size\": 32,\n",
        "    \"client_learning_rate\": 0.01,\n",
        "    \"weight_decay\": 0.001,\n",
        "    \"num_workers\": 2,\n",
        "}\n",
        "\n",
        "on_fit_config_fn: Callable[[int], Dict[str, Scalar]] = lambda cid: train_config\n",
        "\n",
        "num_total_clients = 62\n",
        "num_clients_per_round: int = 3\n",
        "num_evaluate_clients: int = 1\n",
        "fraction_fit: float = float(num_clients_per_round) / num_total_clients\n",
        "fraction_evaluate: float = float(num_evaluate_clients) / num_total_clients\n",
        "\n",
        "strategy = FedAvg(\n",
        "    fraction_fit=fraction_fit,\n",
        "    fraction_evaluate=fraction_evaluate,\n",
        "    min_fit_clients=min_fit_clients,\n",
        "    min_evaluate_clients=min_evaluate_clients,\n",
        "    min_available_clients=min_available_clients,\n",
        "    on_fit_config_fn=on_fit_config_fn,\n",
        "    on_evaluate_config_fn=on_evaluate_config_fn,\n",
        "    evaluate_fn=federated_evaluation_function,\n",
        "    initial_parameters=initial_parameters,\n",
        "    accept_failures=accept_failures,\n",
        "    fit_metrics_aggregation_fn=aggregate_weighted_average,\n",
        "    evaluate_metrics_aggregation_fn=aggregate_weighted_average,\n",
        "    server_learning_rate=server_learning_rate,\n",
        ")"
      ]
    },
    {
      "cell_type": "code",
      "execution_count": null,
      "metadata": {
        "colab": {
          "base_uri": "https://localhost:8080/"
        },
        "id": "5sFPqF0k596b",
        "outputId": "3c8b36f3-1cf7-448f-a60e-36d2d1c18043"
      },
      "outputs": [
        {
          "name": "stderr",
          "output_type": "stream",
          "text": [
            "INFO flwr 2023-02-17 16:02:43,644 | app.py:145 | Starting Flower simulation, config: ServerConfig(num_rounds=5, round_timeout=None)\n",
            "INFO:flwr:Starting Flower simulation, config: ServerConfig(num_rounds=5, round_timeout=None)\n",
            "2023-02-17 16:02:50,367\tINFO worker.py:1529 -- Started a local Ray instance. View the dashboard at \u001b[1m\u001b[32mhttp://127.0.0.1:8265 \u001b[39m\u001b[22m\n",
            "INFO flwr 2023-02-17 16:02:52,900 | app.py:179 | Flower VCE: Ray initialized with resources: {'node:172.28.0.12': 1.0, 'CPU': 2.0, 'GPU': 1.0, 'object_store_memory': 3994182451.0, 'memory': 7988364903.0}\n",
            "INFO:flwr:Flower VCE: Ray initialized with resources: {'node:172.28.0.12': 1.0, 'CPU': 2.0, 'GPU': 1.0, 'object_store_memory': 3994182451.0, 'memory': 7988364903.0}\n",
            "INFO flwr 2023-02-17 16:02:52,907 | server.py:86 | Initializing global parameters\n",
            "INFO:flwr:Initializing global parameters\n",
            "INFO flwr 2023-02-17 16:02:52,916 | server.py:266 | Using initial parameters provided by strategy\n",
            "INFO:flwr:Using initial parameters provided by strategy\n",
            "INFO flwr 2023-02-17 16:02:52,921 | server.py:88 | Evaluating initial parameters\n",
            "INFO:flwr:Evaluating initial parameters\n",
            "  2%|▏         | 18/891 [00:00<00:36, 23.97it/s]"
          ]
        }
      ],
      "source": [
        "hist = start_seeded_simulation(\n",
        "    client_fn=unbalanced_flower_client_generator,\n",
        "    num_clients=num_total_clients,\n",
        "    client_resources=client_resources,\n",
        "    config=ServerConfig(num_rounds=5),\n",
        "    strategy=strategy,\n",
        ")"
      ]
    },
    {
      "cell_type": "markdown",
      "metadata": {
        "id": "uzG9xF-lgb51"
      },
      "source": [
        "**Question 4 (Part II ✅ | Part III/MPhil ✅):**\n",
        "\n",
        "(This is meant to be a conceptual question. You should provide a written answer to this. **No more than 3 sentences**. **No code** is needed)\n",
        "\n",
        "1. Can you give any explanation about the result of the previous experiment? Why do you think the accuracy is so bad?\n",
        "\n",
        "**Question 5 (Part III/MPhil ✅):**\n",
        "\n",
        "(This is meant to be a conceptual question. You should provide a written answer to this. **No more than 3 sentences**. **No code** is needed)\n",
        "\n",
        "1. How does the concept of a client relate to a task in Multi-task Learning (MTL)?\n"
      ]
    },
    {
      "cell_type": "markdown",
      "metadata": {
        "id": "I64eyic-tnWF"
      },
      "source": [
        "### LDA partitions"
      ]
    },
    {
      "cell_type": "markdown",
      "metadata": {
        "id": "iLFg0zOBh77Q"
      },
      "source": [
        "The most popular method for creating heterogeneous partitions from a centralized dataset in terms of class unbalancing is [Latent Dirichlet Allocation (LDA)](https://web.archive.org/web/20120501152722/http://jmlr.csail.mit.edu/papers/v3/blei03a.html). LDA is a generative probabilistic model for collections of discrete data. The paper linked above provides all the theoretical details about the method. \n",
        "\n",
        "The important detail for you to understand about LDA is that the `concentration` parameter controls the degree of heterogeneity in the distribution while `num_partitions` controls how many clients are generated following the specified distribution. \n",
        "\n",
        "A `concentration=0` implies a completely heterogeneous distribution where each client may only contain examples from one class. Thus, if for a `concentration=0` we were to set the `num_partitions` argument to the number of classes we will get the same partitioning as the one we manually created above. \n",
        "\n",
        "**Important:** The LDA partitioning only approaches a fully i.i.d distribution when `concentration` tends towards $\\infty$. In our code, we shall use `99999` to represent $\\infty$."
      ]
    },
    {
      "cell_type": "code",
      "execution_count": null,
      "metadata": {
        "id": "P4JMC7KqlfnZ"
      },
      "outputs": [],
      "source": [
        "!wget https://raw.githubusercontent.com/adap/flower/v1.0.0/baselines/flwr_baselines/dataset/utils/common.py -O lda_utils.py"
      ]
    },
    {
      "cell_type": "code",
      "execution_count": null,
      "metadata": {
        "id": "QNho5BDtlpbh"
      },
      "outputs": [],
      "source": [
        "from lda_utils import create_lda_partitions"
      ]
    },
    {
      "cell_type": "code",
      "execution_count": null,
      "metadata": {
        "id": "ztmKkBPLhBVP"
      },
      "outputs": [],
      "source": [
        "concentration = 2.5\n",
        "# Create partitions\n",
        "x = np.array([x[0] for x in centralized_train_dataset.data])\n",
        "y = np.array([x[1] for x in centralized_train_dataset.data])\n",
        "train_clients_partitions, dist = create_lda_partitions(\n",
        "    dataset=(x,y),\n",
        "    dirichlet_dist=None,\n",
        "    num_partitions=3229,\n",
        "    concentration=concentration,\n",
        "    accept_imbalanced=True,\n",
        ")\n",
        "x = np.array([x[0] for x in centralized_test_dataset.data])\n",
        "y = np.array([x[1] for x in centralized_test_dataset.data])\n",
        "test_clients_partitions, dist = create_lda_partitions(\n",
        "    dataset=(x,y),\n",
        "    dirichlet_dist=dist,\n",
        "    num_partitions=3229,\n",
        "    concentration=concentration,\n",
        "    accept_imbalanced=True,\n",
        ")"
      ]
    },
    {
      "cell_type": "code",
      "execution_count": null,
      "metadata": {
        "id": "_EFfE0fVqnCB"
      },
      "outputs": [],
      "source": [
        "lda_partition: Path = dataset_dir / 'client_data_mappings' / 'lda'\n",
        "lda_partition.mkdir(parents=True, exist_ok=True)\n",
        "\n",
        "for i, (train_set, test_set) in enumerate(zip(train_clients_partitions, test_clients_partitions)):\n",
        "  folder_path: Path = lda_partition / str(i)\n",
        "  folder_path.mkdir(parents=True, exist_ok=True)\n",
        "\n",
        "  train_path: Path = folder_path / \"train.csv\"\n",
        "  test_path: Path = folder_path / \"test.csv\"\n",
        "\n",
        "  pd.DataFrame({'client_id': [0]*len(train_set[0]),\n",
        "              'sample_path': train_set[0],\n",
        "              'sample_id': range(len(train_set[0])),\n",
        "              'label': train_set[1]}).to_csv(train_path, index=False)\n",
        "  pd.DataFrame({'client_id': [0]*len(test_set[0]),\n",
        "              'sample_path': test_set[0],\n",
        "              'sample_id': range(len(test_set[0])),\n",
        "              'label': test_set[1]}).to_csv(test_path, index=False)"
      ]
    },
    {
      "cell_type": "code",
      "execution_count": null,
      "metadata": {
        "id": "pm6IBCqGqgHD"
      },
      "outputs": [],
      "source": [
        "lda_flower_client_generator: Callable[\n",
        "    [int], FlowerRayClient\n",
        "] = get_flower_client_generator(network_generator_cnn, data_dir, lda_partition) # type: ignore"
      ]
    },
    {
      "cell_type": "code",
      "execution_count": null,
      "metadata": {
        "id": "EGf3J7SytbIc"
      },
      "outputs": [],
      "source": [
        "plt.hist([int(x[1]) for x in lda_flower_client_generator(0)._load_dataset('train').data], bins=62, color=\"blue\", alpha=0.7, label=\"client 0 train set\")\n",
        "plt.hist([int(x[1]) for x in lda_flower_client_generator(1)._load_dataset('train').data], bins=62, color=\"orange\", alpha=0.7, label=\"client 1 train set\")\n",
        "plt.legend()"
      ]
    },
    {
      "cell_type": "code",
      "execution_count": null,
      "metadata": {
        "id": "JWbg6Ty6s7c0"
      },
      "outputs": [],
      "source": [
        "train_config: Dict[str, Any] = {\n",
        "    \"epochs\": 8,\n",
        "    \"batch_size\": 32,\n",
        "    \"client_learning_rate\": 0.01,\n",
        "    \"weight_decay\": 0.001,\n",
        "    \"num_workers\": 2,\n",
        "}\n",
        "\n",
        "on_fit_config_fn: Callable[[int], Dict[str, Scalar]] = lambda cid: train_config\n",
        "\n",
        "num_total_clients = 3229\n",
        "num_clients_per_round: int = 3\n",
        "num_evaluate_clients: int = 1\n",
        "fraction_fit: float = float(num_clients_per_round) / num_total_clients\n",
        "fraction_evaluate: float = float(num_evaluate_clients) / num_total_clients\n",
        "\n",
        "strategy = FedAvg(\n",
        "    fraction_fit=fraction_fit,\n",
        "    fraction_evaluate=fraction_evaluate,\n",
        "    min_fit_clients=min_fit_clients,\n",
        "    min_evaluate_clients=min_evaluate_clients,\n",
        "    min_available_clients=min_available_clients,\n",
        "    on_fit_config_fn=on_fit_config_fn,\n",
        "    on_evaluate_config_fn=on_evaluate_config_fn,\n",
        "    evaluate_fn=federated_evaluation_function,\n",
        "    initial_parameters=initial_parameters,\n",
        "    accept_failures=accept_failures,\n",
        "    fit_metrics_aggregation_fn=aggregate_weighted_average,\n",
        "    evaluate_metrics_aggregation_fn=aggregate_weighted_average,\n",
        "    server_learning_rate=server_learning_rate,\n",
        ")"
      ]
    },
    {
      "cell_type": "code",
      "execution_count": null,
      "metadata": {
        "id": "7PscXeuI6Dpo"
      },
      "outputs": [],
      "source": [
        "hist = start_seeded_simulation(\n",
        "    client_fn=lda_flower_client_generator,\n",
        "    num_clients=num_total_clients,\n",
        "    client_resources=client_resources,\n",
        "    config=ServerConfig(num_rounds=5),\n",
        "    strategy=strategy,\n",
        ")"
      ]
    },
    {
      "cell_type": "markdown",
      "metadata": {
        "id": "ogHuE5d0mpwZ"
      },
      "source": [
        "**Question 6 (Part II ✅ | Part III/MPhil ✅):**\n",
        "\n",
        "(You need to provide the answer with **code** and **plots** for this question. A short written argumentation is recommended.)\n",
        "\n",
        "1. Produce a set of LDA partitions with `concentration` in `[0.1, 1.0, 99999]`.\n",
        "2. Train an FL setting for every partition you have produced using the same hyperparameter we used in the cell above, but with `num_clients_per_round=15` and `ServerConfig(num_rounds=1)`.\n",
        "3. Why do you think one-shot averaging works well for full i.i.d data and not for very heterogeneous clients?\n",
        "\n",
        "**Question 7 (Part III/MPhil ✅):**\n",
        "\n",
        "(You need to provide the answer with **code** and **plots** for this question. A short written argumentation is recommended.)\n",
        "\n",
        "1. Use the previous set of LDA partitions with `concentration` in `[0.1, 1.0, 99999]`.\n",
        "2. Train an FL setting for every partition you have produced using the same hyperparameter we used in the cell above---with `num_clients_per_round=3` and `ServerConfig(num_rounds=5)`.\n",
        "3. Compare the final accuracy of the trained FL settings in a graph.\n",
        "4. How should the amount of local work relative to aggregation rounds change as heterogeneity increases? Take into account the results from question 6 as well."
      ]
    },
    {
      "cell_type": "markdown",
      "metadata": {
        "id": "i0_aN4dkcvv8"
      },
      "source": [
        "# 4. FL Strategies tackling heterogeneity\n"
      ]
    },
    {
      "cell_type": "markdown",
      "metadata": {
        "id": "9ayxhgBa-8Oi"
      },
      "source": [
        "The challenge of dealing with non-iidness in FL has been discussed extensively since the publication of the first paper about FL. Many approaches have been proposed, but still, the literature doesn't agree on a general approach or a rule of thumb. A natural method is to modify/extend FedAvg or develop another algorithm specifically oriented to mitigating heterogeneity. In some applications, augmenting data to make it more similar between clients is possible. Some works assume a small dataset that is shared between clients to serve as a reference. \n",
        "\n",
        "Every time a new approach has been proposed, many related questions have arisen. It is no longer clear that treating all examples of all the clients equally make sense. Some works proposed limiting the contributions of data from any client in the federation. The notion of fairness has been introduced and defined in many ways in order to set up principles that could result in new approaches, for example emphasizing underperforming clients during aggregation. It is not even clear whether a single global model is the correct objective for FL---works related to this question gave birth to Personalised Federated Learning (PFL), a sub-branch of research.\n",
        "\n",
        "We started to think that we should be able to turn the non-iid problem from a bug into a feature treated similarly to a task in MTL. The number of works that start with this perspective is however limited.\n",
        "\n",
        "Even if FedAvg can partially mitigate heterogeneity, it is not working well in all situations, as we saw previously. From the many new algorithms that were introduced, it is worth mentioning: [FedProx](https://www.researchgate.net/profile/Anit-Sahu/publication/329734586_On_the_Convergence_of_Federated_Optimization_in_Heterogeneous_Networks/links/5c1bdd5e299bf12be38ee52d/On-the-Convergence-of-Federated-Optimization-in-Heterogeneous-Networks.pdf), [q-FedAvg](https://arxiv.org/abs/1905.10497), [SCAFFOLD](http://proceedings.mlr.press/v119/karimireddy20a.html). For a matter of time, we will now explore just one of these algorithms introduced for tackling the non-iid problem specifically. We chose FedProx since it is the simplest to demonstrate."
      ]
    },
    {
      "cell_type": "markdown",
      "metadata": {
        "id": "W3xe9fHHc5Sc"
      },
      "source": [
        "## FedProx"
      ]
    },
    {
      "cell_type": "markdown",
      "metadata": {
        "id": "xNyYEsRnId3C"
      },
      "source": [
        "The Federated Proximal (FedProx) method was developed in the context of tuning and benchmarking FedAvg in a heterogeneous setting. The authors of FedAvg proposed carefully tuning the learning rate and the number of local epochs to increase the accuracy in such settings but turned out clear that something more was necessary. Based on the client's heterogeneity, local updates change the global model not only in different directions in the loss space but also at different rates. This phenomenon is called client divergence or drifting. \n",
        "\n",
        "Using FedAvg we would like to have a different number of local epochs for each client based on its characteristics. Thus, heuristically setting the number of local updates is not always optimal, because clients are all different from each other. Limiting the number of local updates through a more flexible tool is beneficial. Thus, FedProx proposes to incorporate a term in the local objective function that penalizes big changes from the current model at the server. In each node $k$, instead of minimizing the local loss function $F_k$, the local solver tries to approximately minimize:\n",
        "\n",
        "$\\min_wh_w(w;w^t)=F_k(w)+\\frac{\\mu}{2}||w-w^t||^2$,\n",
        "\n",
        "where $||w-w^t||^2$ is the new proximal term. \n",
        "\n",
        "FedProx acts as FedAvg apart from the change in the local objective. This new objective enforces limited local model updates more explicitly than FedAvg. Using FedProx, it is no longer necessary to tune the number of local epochs for each client to minimize divergence.\n",
        "\n",
        "We will now implement and test FedProx on the natural partition of FEMNIST. Implementing FedProx just involves modifying the local training function of our `FlowerRayClient`. We will then write the new function and build a new `client_generator` function that overwrites the relevant methods of our client."
      ]
    },
    {
      "cell_type": "code",
      "execution_count": null,
      "metadata": {
        "id": "BoGXFQALRRkR"
      },
      "outputs": [],
      "source": [
        "def train_fedprox_FEMNIST(\n",
        "  net: Module,\n",
        "  train_loader: DataLoader,\n",
        "  epochs: int,\n",
        "  device: str,\n",
        "  optimizer: torch.optim.Optimizer,\n",
        "  criterion: Module,\n",
        "  proximal_mu: float,\n",
        ") -> float:\n",
        "    \"\"\"Trains the network on the training set using FedProx.\n",
        "\n",
        "    Args:\n",
        "        net (Module): generic module object describing the network to train.\n",
        "        train_loader (DataLoader): dataloader to iterate during the training.\n",
        "        epochs (int): number of epochs of training.\n",
        "        device (str): device name onto which perform the computation.\n",
        "        optimizer (torch.optim.Optimizer): optimizer object.\n",
        "        criterion (Module): generic module describing the loss function.\n",
        "        proximal_mu (float): parameter for the weight of the proximal term.\n",
        "\n",
        "    Returns:\n",
        "        float: the final epoch mean train loss.\n",
        "    \"\"\"\n",
        "    global_params: Module = deepcopy(net)\n",
        "    global_params.requires_grad_(False)\n",
        "    global_params = [val for _, val in global_params.state_dict().items()]\n",
        "    net.train()\n",
        "    running_loss, total = 0.0, 0\n",
        "    for _ in tqdm(range(epochs)):\n",
        "        running_loss = 0.0\n",
        "        total = 0\n",
        "        for data, labels in train_loader:\n",
        "            data, labels = data.to(device), labels.to(device)\n",
        "            optimizer.zero_grad()\n",
        "            # NOTE: here comes the implementation of FedProx algorithm\n",
        "            proximal_term = 0.0\n",
        "            for local_weights, global_weights in zip(net.parameters(), global_params):\n",
        "                proximal_term += (local_weights - global_weights).norm(2)\n",
        "            loss = criterion(net(data), labels) + (proximal_mu / 2) * proximal_term\n",
        "            running_loss += loss.item()\n",
        "            total += labels.size(0)\n",
        "            loss.backward()\n",
        "            optimizer.step()\n",
        "    return running_loss/total\n",
        "\n",
        "def _train_fedprox(\n",
        "    self, net: Module, train_loader: DataLoader, config: Dict[str, Scalar]\n",
        ") -> float:\n",
        "    return train_fedprox_FEMNIST(\n",
        "        net=net,\n",
        "        train_loader=train_loader,\n",
        "        epochs=int(config[\"epochs\"]),\n",
        "        device=self.device,\n",
        "        optimizer=torch.optim.AdamW(\n",
        "            net.parameters(),\n",
        "            lr=float(config[\"client_learning_rate\"]),\n",
        "            weight_decay=float(config[\"weight_decay\"]),\n",
        "        ),\n",
        "        criterion=torch.nn.CrossEntropyLoss(),\n",
        "        proximal_mu=config['proximal_mu'],\n",
        "\n",
        "    )\n",
        "\n",
        "\n",
        "def get_fedprox_flower_client_generator(\n",
        "  model_generator: Callable[[], Module],\n",
        "  data_dir: Path,\n",
        "  partition_dir: Path,\n",
        "  mapping_fn: Optional[Callable[[int], int]] = None,\n",
        ") -> Callable[[str], FlowerRayClient]:\n",
        "    \"\"\"Wrapper function for the client instance generator.\n",
        "    This provides the client generator with a model generator function.\n",
        "    Also, the partition directory must be passed.\n",
        "    A mapping function could be used for filtering/ordering clients.\n",
        "    The clients genrated will train using FedProx algorithm.\n",
        "\n",
        "    Args:\n",
        "        data_dir (Path): path to the dataset folder.\n",
        "        model_generator (Callable[[], Module]): model generator function.\n",
        "        partition_dir (Path): directory containing the partition.\n",
        "        mapping_fn (Optional[Callable[[int], int]]): function mapping sorted/filtered ids to real cid.\n",
        "\n",
        "    Returns:\n",
        "        Callable[[str], FlowerRayClient]: client instance.\n",
        "    \"\"\"\n",
        "    def client_fn(cid: str) -> FlowerRayClient:\n",
        "        \"\"\"Creates a single client instance given the client id `cid`.\n",
        "\n",
        "        Args:\n",
        "            cid (str): client id, Flower requires this to of type str.\n",
        "\n",
        "        Returns:\n",
        "            FlowerRayClient: client instance.\n",
        "        \"\"\"\n",
        "        print(f\"Getting client with id {cid}\")\n",
        "        actual_cid = mapping_fn(int(cid)) if mapping_fn is not None else int(cid)\n",
        "        client = FlowerRayClient(\n",
        "            cid=actual_cid,\n",
        "            data_dir=data_dir,\n",
        "            partition_dir=partition_dir,\n",
        "            model_generator=model_generator,\n",
        "        )\n",
        "        client.device = get_device()\n",
        "        # Pay attention to the following line\n",
        "        client._train = _train_fedprox.__get__(client, FlowerRayClient)\n",
        "        return client\n",
        "\n",
        "    return client_fn"
      ]
    },
    {
      "cell_type": "markdown",
      "metadata": {
        "id": "wjiLOOddl6cw"
      },
      "source": [
        "We are now able to train an FL setting using FedProx."
      ]
    },
    {
      "cell_type": "code",
      "execution_count": null,
      "metadata": {
        "id": "Sbd8Ks4Hl-Uz"
      },
      "outputs": [],
      "source": [
        "# NOTE: we are using here the `get_fedprox_flower_client_generator`\n",
        "federated_fedprox_flower_client_generator: Callable[\n",
        "    [int], FlowerRayClient\n",
        "] = get_fedprox_flower_client_generator(network_generator_cnn, data_dir, lda_partition) # type: ignore\n",
        "\n",
        "train_config: Dict[str, Any] = {\n",
        "    \"epochs\": 8,\n",
        "    \"batch_size\": 32,\n",
        "    \"client_learning_rate\": 0.01,\n",
        "    \"weight_decay\": 0.001,\n",
        "    \"num_workers\": 2,\n",
        "    \"proximal_mu\": 0.01,\n",
        "}\n",
        "\n",
        "on_fit_config_fn: Callable[[int], Dict[str, Scalar]] = lambda cid: train_config\n",
        "\n",
        "num_total_clients = 3229\n",
        "num_clients_per_round: int = 3\n",
        "num_evaluate_clients: int = 1\n",
        "fraction_fit: float = float(num_clients_per_round) / num_total_clients\n",
        "fraction_evaluate: float = float(num_evaluate_clients) / num_total_clients\n",
        "\n",
        "strategy = FedAvg(\n",
        "    fraction_fit=fraction_fit,\n",
        "    fraction_evaluate=fraction_evaluate,\n",
        "    min_fit_clients=min_fit_clients,\n",
        "    min_evaluate_clients=min_evaluate_clients,\n",
        "    min_available_clients=min_available_clients,\n",
        "    on_fit_config_fn=on_fit_config_fn,\n",
        "    on_evaluate_config_fn=on_evaluate_config_fn,\n",
        "    evaluate_fn=federated_evaluation_function,\n",
        "    initial_parameters=initial_parameters,\n",
        "    accept_failures=accept_failures,\n",
        "    fit_metrics_aggregation_fn=aggregate_weighted_average,\n",
        "    evaluate_metrics_aggregation_fn=aggregate_weighted_average,\n",
        "    server_learning_rate=server_learning_rate,\n",
        ")"
      ]
    },
    {
      "cell_type": "code",
      "execution_count": null,
      "metadata": {
        "id": "7cg576GQBRWS"
      },
      "outputs": [],
      "source": [
        "hist = start_seeded_simulation(\n",
        "    client_fn=federated_fedprox_flower_client_generator,\n",
        "    num_clients=3229,\n",
        "    client_resources=client_resources,\n",
        "    config=ServerConfig(num_rounds=10),\n",
        "    strategy=strategy,\n",
        ")"
      ]
    },
    {
      "cell_type": "markdown",
      "metadata": {
        "id": "xKkvqBcbmkXO"
      },
      "source": [
        "**Question 8 (Part II ✅ | Part III/MPhil ✅):**\n",
        "\n",
        "(You need to provide the answer with **code** and **plots** for this question. A short written argumentation is recommended.)\n",
        "\n",
        "1. Train the FL setting composed of LDA partitions with `concentration=5` using FedProx with values of `proximal_mu` in $\\{0.0, 0.1\\}$. Keep `num_clients_per_round=3` and `ServerConfig(num_rounds=10)`.\n",
        "2. Plot convergence curves for both `proximal_mu`."
      ]
    },
    {
      "cell_type": "markdown",
      "metadata": {
        "id": "Uwgk_EXWptRo"
      },
      "source": [
        "\n",
        "**Question 9 (Part III/MPhil ✅):**\n",
        "\n",
        "(You need to provide the answer with **code** and **plots** for this question. A short written argumentation is recommended.)\n",
        "\n",
        "1. Assume to have fixed `num_clients_per_round*num_rounds≈30` and `local_epochs=8`. What combination of `num_clients_per_round` and `num_rounds` should result in the largest gap between FedProx with `proximal_mu=0.01` and `proximal_mu=0.0`? Try at least two combinations you think are likely to be best. We recommend values of `num_clients_per_round` in the interval $[3,10]$.\n",
        "2. Based on the results in (1), what do you think is a reasonable rule of thumb for setting the `num_clients_per_round` and `num_rounds` of FedProx in a non-iid setting?"
      ]
    },
    {
      "cell_type": "markdown",
      "metadata": {
        "id": "5K1N62Obm679"
      },
      "source": [
        "**Question 10 (Part II ✅ | Part III/MPhil ✅):**\n",
        "\n",
        "(These are meant to be conceptual questions. You should provide written answers for these. **No more than 3 sentences each**. No code is needed)\n",
        "\n",
        "In FL, fairness is generally defined as the variance of the accuracy of the global model on local clients' test sets. If two models have the same average accuracy, the one with the lower variance between clients is the fairer.\n",
        "\n",
        "- In light of this, is it reasonable to say that analysing the fairness of the model across clients, i.e. the distributed accuracy, could be used as a tool to measure the data heterogeneity? Motivate your answer.\n",
        "- Both FedAvg and FedProx are training a single global model, so we will always measure some unfairness. Do you think we could improve fairness by finetuning the global model on the local clients just before evaluating it on their local test set?"
      ]
    },
    {
      "cell_type": "markdown",
      "metadata": {
        "id": "8CE19E70FJ-p"
      },
      "source": [
        "Regularization terms such as the one used by FedProx are varied, the one used by FedProx is meant to be efficient. As such, it only increases memory usage and computation by $O(M)$ where $M$ is the model size. While simple, this approach is blind to the **meaning** of a parameter in terms of how it influences the output distribution of the network. \n",
        "\n",
        "An alternative regularization method which only increases the complexity of the implementation by a minimal amount is [Knowledge Distillation](https://arxiv.org/pdf/1503.02531.pdf). The teacher network shall be the copy of the federated model from the start of the round and the student network will be the currently training federated model of the client. \n",
        "\n",
        "This method looks at the distribution of outputs from the two networks on local batches. It works by constraining the divergence of parameters important to matching the output distribution of the teacher with that of the client model. In the following question you will compare this with the way FedProx constrains all parameters in the same manner. \n",
        "\n",
        "**Question 11 (Part III/MPhil ✅):**\n",
        "\n",
        "(You need to provide the answer with **code** and **plots** for this question. A short written argumentation is recommended.)\n",
        "1. Implement Knowledge Distillation as a regularization method in the same manner as we implemented FedProx above. You will have to:\n",
        "    - Deepcopy the parameters of the federated model at the start of a round. Make sure to freeze the model as to avoid training it.\n",
        "    - Compute the outputs of the teacher and student for each batch.\n",
        "    - Add the [KL divergence](https://pytorch.org/docs/stable/generated/torch.nn.KLDivLoss.html) between the outputs of the teacher and the outputs of the student to the normal cross-entropy loss of the student. Use a parameter $\\alpha$ to control the two losses as follows:\n",
        "    - $L(C,x) = (1-\\alpha) L(C,x) + \\alpha K_l(\\sigma(G(x)), \\sigma(C(x))) $\n",
        "    - Where $L(C,x)$ is the cross-entropy of the client model $C$ with respect to input x, $K_l$ is the aforementioned divergence, $\\sigma$ is the softmax activation function and $G(x)$ is the output of the teacher model while $C(x)$ is the output of the student model.\n",
        "2.  Compare FedAvg with Knowledge Distillation with the previously tested parameters of FedProx keeping everything else the same, try $\\alpha \\in \\{0,0.1,0.5\\}$. Plot FedProx and FedAvg-with-KD on the same graph for all hyperparameters."
      ]
    }
  ],
  "metadata": {
    "accelerator": "GPU",
    "colab": {
      "provenance": []
    },
    "gpuClass": "standard",
    "kernelspec": {
      "display_name": "flwr-mps",
      "language": "python",
      "name": "python3"
    },
    "language_info": {
      "codemirror_mode": {
        "name": "ipython",
        "version": 3
      },
      "file_extension": ".py",
      "mimetype": "text/x-python",
      "name": "python",
      "nbconvert_exporter": "python",
      "pygments_lexer": "ipython3",
      "version": "3.10.6"
    },
    "vscode": {
      "interpreter": {
        "hash": "f60f5a2c15992c74df12f0554524b987217e124a6a47cf1bc494002bece5a18b"
      }
    }
  },
  "nbformat": 4,
  "nbformat_minor": 0
}
